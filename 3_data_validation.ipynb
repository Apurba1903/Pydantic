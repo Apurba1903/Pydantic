{
 "cells": [
  {
   "cell_type": "code",
   "execution_count": 14,
   "id": "cf227187",
   "metadata": {},
   "outputs": [
    {
     "name": "stdout",
     "output_type": "stream",
     "text": [
      "Name:  Apurba\n",
      "Email:  apurba@gmail.com\n",
      "Social Media:  https://apurba1903.github.io/apurba_portfolio/\n",
      "Age:  25\n",
      "Weight:  82.34\n",
      "Married:  False\n",
      "Allergies:  ['dust', 'smoke', 'pollen']\n",
      "Contact:  {'phone': '01234567890'}\n",
      "\n",
      "Inserted into Database\n",
      "\n",
      "Name:  Apurba\n",
      "Email:  apurba@gmail.com\n",
      "Social Media:  https://apurba1903.github.io/apurba_portfolio/\n",
      "Age:  25\n",
      "Weight:  82.34\n",
      "Married:  False\n",
      "Allergies:  ['dust', 'smoke', 'pollen']\n",
      "Contact:  {'phone': '01234567890'}\n",
      "\n",
      "Updated into Database\n",
      "\n"
     ]
    }
   ],
   "source": [
    "from pydantic import BaseModel, EmailStr, AnyUrl, Field\n",
    "from typing import List, Dict, Optional, Annotated\n",
    "\n",
    "\n",
    "class Patient(BaseModel):\n",
    "    name: Annotated[str, Field(max_length=50, title='Name of the Patient', description='Give the name of the patient in less than 50 characters', examples=['Apurba', 'Arnob'])] # Custom Data Validation and Adding MetaData\n",
    "    \n",
    "    email: EmailStr # Builtin Data Validation\n",
    "    \n",
    "    social_url: AnyUrl # Builtin Data Validation\n",
    "    \n",
    "    age: int = Field(gt=0, lt=80) # Custom Data Validation\n",
    "    \n",
    "    weight: Annotated[float, Field(gt=0, strict=True)] # Custom Data Validation and Type Coercion Reversed\n",
    "    \n",
    "    married: Annotated[bool, Field(default=None, description='Is the patient married or not?')] # Custom Data Validation and Adding MetaData\n",
    "    \n",
    "    allergies: Annotated[Optional[List[str]], Field(default=None, max_length=5)] # Custom Data Validation\n",
    "    \n",
    "    contact_details: Dict[str, str]\n",
    "\n",
    "\n",
    "def insert_patient_data(patient: Patient):\n",
    "    print('Name: ', patient.name)\n",
    "    print('Email: ', patient.email)\n",
    "    print('Social Media: ', patient.social_url)\n",
    "    print('Age: ', patient.age)\n",
    "    print('Weight: ', patient.weight)\n",
    "    print('Married: ', patient.married)\n",
    "    print('Allergies: ', patient.allergies)\n",
    "    print('Contact: ', patient.contact_details)\n",
    "    print('\\nInserted into Database\\n')\n",
    "\n",
    "def update_patient_data(patient: Patient):\n",
    "    print('Name: ', patient.name)\n",
    "    print('Email: ', patient.email)\n",
    "    print('Social Media: ', patient.social_url)\n",
    "    print('Age: ', patient.age)\n",
    "    print('Weight: ', patient.weight)\n",
    "    print('Married: ', patient.married)\n",
    "    print('Allergies: ', patient.allergies)\n",
    "    print('Contact: ', patient.contact_details)\n",
    "    print('\\nUpdated into Database\\n')\n",
    "\n",
    "\n",
    "patient_info = {\n",
    "    'name': 'Apurba',\n",
    "    'email': 'apurba@gmail.com',\n",
    "    'social_url': 'https://apurba1903.github.io/apurba_portfolio/',\n",
    "    'age': 25,\n",
    "    'weight': 82.34,\n",
    "    'married': False,\n",
    "    'allergies': ['dust', 'smoke', 'pollen'],\n",
    "    'contact_details': {\n",
    "        'phone': '01234567890'\n",
    "    }\n",
    "}\n",
    "\n",
    "\n",
    "patient1 = Patient(**patient_info)\n",
    "\n",
    "\n",
    "insert_patient_data(patient1)\n",
    "update_patient_data(patient1)"
   ]
  },
  {
   "cell_type": "markdown",
   "id": "5f5129d1",
   "metadata": {},
   "source": [
    "#### We can validate data in 2 ways. When the data validation is for common field we can use custom inbuilt data validation modules. In another hand when we use ani data validation for our own custom requirement we can use Field"
   ]
  }
 ],
 "metadata": {
  "kernelspec": {
   "display_name": "Python 3",
   "language": "python",
   "name": "python3"
  },
  "language_info": {
   "codemirror_mode": {
    "name": "ipython",
    "version": 3
   },
   "file_extension": ".py",
   "mimetype": "text/x-python",
   "name": "python",
   "nbconvert_exporter": "python",
   "pygments_lexer": "ipython3",
   "version": "3.11.9"
  }
 },
 "nbformat": 4,
 "nbformat_minor": 5
}
