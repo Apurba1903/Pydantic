{
 "cells": [
  {
   "cell_type": "code",
   "execution_count": null,
   "id": "f3d0f059",
   "metadata": {},
   "outputs": [
    {
     "name": "stdout",
     "output_type": "stream",
     "text": [
      "{'name': 'Apurba', 'gender': 'Male', 'age': 25, 'address': {'city': 'Dhaka'}}\n",
      "<class 'dict'>\n"
     ]
    }
   ],
   "source": [
    "from pydantic import BaseModel\n",
    "\n",
    "class Address(BaseModel):\n",
    "    city: str\n",
    "    state: str\n",
    "    pin: str\n",
    "\n",
    "class Patient(BaseModel):\n",
    "    name: str\n",
    "    gender: str\n",
    "    age: int\n",
    "    address: Address\n",
    "\n",
    "address_dict = {\n",
    "    'city': 'Dhaka',\n",
    "    'state': 'Dhaka',\n",
    "    'pin': '1216'\n",
    "}\n",
    "address1 = Address(**address_dict)\n",
    "\n",
    "patient_info = {\n",
    "    'name': 'Apurba',\n",
    "    'age': 25,\n",
    "    'gender': 'Male',\n",
    "    'address': address1\n",
    "}\n",
    "patient1 = Patient(**patient_info)\n",
    "\n",
    "\n",
    "\n",
    "# We can export in Python Dict Format and JSON Format\n",
    "# We can set Include and Exclude\n",
    "temp = patient1.model_dump(exclude={'address':['state','pin']})\n",
    "# temp = patient1.model_dump_json()\n",
    "print(temp)\n",
    "print(type(temp))\n",
    "\n",
    "\n",
    "# We can also set `exclude_unset` for when we dont want to export the default value"
   ]
  }
 ],
 "metadata": {
  "kernelspec": {
   "display_name": "Python 3",
   "language": "python",
   "name": "python3"
  },
  "language_info": {
   "codemirror_mode": {
    "name": "ipython",
    "version": 3
   },
   "file_extension": ".py",
   "mimetype": "text/x-python",
   "name": "python",
   "nbconvert_exporter": "python",
   "pygments_lexer": "ipython3",
   "version": "3.11.9"
  }
 },
 "nbformat": 4,
 "nbformat_minor": 5
}
