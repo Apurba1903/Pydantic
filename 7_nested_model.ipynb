{
 "cells": [
  {
   "cell_type": "code",
   "execution_count": 1,
   "id": "7c932598",
   "metadata": {},
   "outputs": [
    {
     "name": "stdout",
     "output_type": "stream",
     "text": [
      "name='Apurba' gender='Male' age=25 address=Address(city='Dhaka', state='Dhaka', pin='1216')\n",
      "Apurba\n",
      "Dhaka\n",
      "1216\n"
     ]
    }
   ],
   "source": [
    "from pydantic import BaseModel\n",
    "\n",
    "class Address(BaseModel):\n",
    "    city: str\n",
    "    state: str\n",
    "    pin: str\n",
    "\n",
    "class Patient(BaseModel):\n",
    "    name: str\n",
    "    gender: str\n",
    "    age: int\n",
    "    address: Address\n",
    "\n",
    "address_dict = {\n",
    "    'city': 'Dhaka',\n",
    "    'state': 'Dhaka',\n",
    "    'pin': '1216'\n",
    "}\n",
    "address1 = Address(**address_dict)\n",
    "\n",
    "patient_info = {\n",
    "    'name': 'Apurba',\n",
    "    'age': 25,\n",
    "    'gender': 'Male',\n",
    "    'address': address1\n",
    "}\n",
    "patient1 = Patient(**patient_info)\n",
    "\n",
    "print(patient1)\n",
    "print(patient1.name)\n",
    "print(patient1.address.city)\n",
    "print(patient1.address.pin)"
   ]
  },
  {
   "cell_type": "markdown",
   "id": "404ffbd1",
   "metadata": {},
   "source": [
    "##### Better organization of related data (e.g., vitals, address, insurance)\n",
    "\n",
    "##### Reusability: Use Vitals in multiple models (e.g., Patient, MedicalRecord)\n",
    "\n",
    "##### Readability: Easier for developers and API consumers to understand\n",
    "\n",
    "##### Validation: Nested models are validated automatically—no extra work needed"
   ]
  }
 ],
 "metadata": {
  "kernelspec": {
   "display_name": "Python 3",
   "language": "python",
   "name": "python3"
  },
  "language_info": {
   "codemirror_mode": {
    "name": "ipython",
    "version": 3
   },
   "file_extension": ".py",
   "mimetype": "text/x-python",
   "name": "python",
   "nbconvert_exporter": "python",
   "pygments_lexer": "ipython3",
   "version": "3.11.9"
  }
 },
 "nbformat": 4,
 "nbformat_minor": 5
}
