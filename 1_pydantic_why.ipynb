{
 "cells": [
  {
   "cell_type": "code",
   "execution_count": 1,
   "id": "ef83f9ab",
   "metadata": {},
   "outputs": [
    {
     "name": "stdout",
     "output_type": "stream",
     "text": [
      "Apurba\n",
      "Twenty Five\n",
      "Inserted into Database\n"
     ]
    }
   ],
   "source": [
    "def insert_patient_data(name, age):\n",
    "    \n",
    "    print(name)\n",
    "    print(age)\n",
    "    print('Inserted into Database')\n",
    "\n",
    "insert_patient_data('Apurba', 'Twenty Five')"
   ]
  },
  {
   "cell_type": "code",
   "execution_count": 2,
   "id": "375a9b59",
   "metadata": {},
   "outputs": [
    {
     "name": "stdout",
     "output_type": "stream",
     "text": [
      "Apurba\n",
      "25\n",
      "Inserted into Database\n"
     ]
    }
   ],
   "source": [
    "def insert_patient_data(name: str, age: int):\n",
    "    \n",
    "    print(name)\n",
    "    print(age)\n",
    "    print('Inserted into Database')\n",
    "\n",
    "insert_patient_data('Apurba', 25)"
   ]
  },
  {
   "cell_type": "code",
   "execution_count": 3,
   "id": "90e23eee",
   "metadata": {},
   "outputs": [
    {
     "name": "stdout",
     "output_type": "stream",
     "text": [
      "Apurba\n",
      "25\n",
      "Inserted into Database\n"
     ]
    }
   ],
   "source": [
    "def insert_patient_data(name: str, age: int): # Type hunting does not raise error\n",
    "    \n",
    "    print(name)\n",
    "    print(age)\n",
    "    print('Inserted into Database')\n",
    "\n",
    "insert_patient_data('Apurba', '25')"
   ]
  },
  {
   "cell_type": "code",
   "execution_count": 7,
   "id": "6c8d2cfa",
   "metadata": {},
   "outputs": [
    {
     "ename": "TypeError",
     "evalue": "Incorrect Data Type",
     "output_type": "error",
     "traceback": [
      "\u001b[1;31m---------------------------------------------------------------------------\u001b[0m",
      "\u001b[1;31mTypeError\u001b[0m                                 Traceback (most recent call last)",
      "Cell \u001b[1;32mIn[7], line 12\u001b[0m\n\u001b[0;32m      8\u001b[0m     \u001b[38;5;28;01melse\u001b[39;00m:\n\u001b[0;32m      9\u001b[0m         \u001b[38;5;28;01mraise\u001b[39;00m \u001b[38;5;167;01mTypeError\u001b[39;00m(\u001b[38;5;124m'\u001b[39m\u001b[38;5;124mIncorrect Data Type\u001b[39m\u001b[38;5;124m'\u001b[39m)\n\u001b[1;32m---> 12\u001b[0m \u001b[43minsert_patient_data\u001b[49m\u001b[43m(\u001b[49m\u001b[38;5;124;43m'\u001b[39;49m\u001b[38;5;124;43mApurba\u001b[39;49m\u001b[38;5;124;43m'\u001b[39;49m\u001b[43m,\u001b[49m\u001b[43m \u001b[49m\u001b[38;5;124;43m'\u001b[39;49m\u001b[38;5;124;43m40\u001b[39;49m\u001b[38;5;124;43m'\u001b[39;49m\u001b[43m)\u001b[49m\n",
      "Cell \u001b[1;32mIn[7], line 9\u001b[0m, in \u001b[0;36minsert_patient_data\u001b[1;34m(name, age)\u001b[0m\n\u001b[0;32m      7\u001b[0m     \u001b[38;5;28mprint\u001b[39m(\u001b[38;5;124m'\u001b[39m\u001b[38;5;124mInserted Data Successfully\u001b[39m\u001b[38;5;124m'\u001b[39m)\n\u001b[0;32m      8\u001b[0m \u001b[38;5;28;01melse\u001b[39;00m:\n\u001b[1;32m----> 9\u001b[0m     \u001b[38;5;28;01mraise\u001b[39;00m \u001b[38;5;167;01mTypeError\u001b[39;00m(\u001b[38;5;124m'\u001b[39m\u001b[38;5;124mIncorrect Data Type\u001b[39m\u001b[38;5;124m'\u001b[39m)\n",
      "\u001b[1;31mTypeError\u001b[0m: Incorrect Data Type"
     ]
    }
   ],
   "source": [
    "def insert_patient_data(name: str, age: int):\n",
    "    \n",
    "    # Forcing type validation\n",
    "    if type(name) == str and type(age) == int:\n",
    "        print(name)\n",
    "        print(age)\n",
    "        print('Inserted Data Successfully')\n",
    "    else:\n",
    "        raise TypeError('Incorrect Data Type')\n",
    "\n",
    "\n",
    "insert_patient_data('Apurba', '40')"
   ]
  },
  {
   "cell_type": "code",
   "execution_count": null,
   "id": "062d3ca1",
   "metadata": {},
   "outputs": [
    {
     "name": "stdout",
     "output_type": "stream",
     "text": [
      "Apurba\n",
      "40\n",
      "Update Data Successfully\n"
     ]
    }
   ],
   "source": [
    "def update_patient_data(name: str, age: int):\n",
    "    \n",
    "    # Forcing type validation\n",
    "    if type(name) == str and type(age) == int:\n",
    "        print(name)\n",
    "        print(age)\n",
    "        print('Update Data Successfully')\n",
    "    else:\n",
    "        raise TypeError('Incorrect Data Type')\n",
    "\n",
    "\n",
    "update_patient_data('Apurba', 40)\n",
    "\n",
    "# It will not be scalable"
   ]
  },
  {
   "cell_type": "markdown",
   "id": "c4029fd0",
   "metadata": {},
   "source": [
    "#### Python does not have Type validation by default. We have to write manual checks to make sure the validation works perfectly. \n",
    "\n",
    "#### Pydantic solves this problem for production level code."
   ]
  },
  {
   "cell_type": "code",
   "execution_count": 9,
   "id": "57374476",
   "metadata": {},
   "outputs": [
    {
     "name": "stdout",
     "output_type": "stream",
     "text": [
      "Apurba\n",
      "40\n",
      "Update Data Successfully\n"
     ]
    }
   ],
   "source": [
    "def update_patient_data(name: str, age: int):\n",
    "    \n",
    "    # Forcing type validation and data validation\n",
    "    if type(name) == str and type(age) == int:\n",
    "        if age < 0:\n",
    "            raise ValueError('Age can not be negative')\n",
    "        else:\n",
    "            print(name)\n",
    "            print(age)\n",
    "            print('Update Data Successfully')\n",
    "        \n",
    "    else:\n",
    "        raise TypeError('Incorrect Data Type')\n",
    "\n",
    "\n",
    "update_patient_data('Apurba', 40)\n",
    "\n",
    "# It will work but again It will not be scalable"
   ]
  },
  {
   "cell_type": "markdown",
   "id": "fd7ed88f",
   "metadata": {},
   "source": [
    "#### Pydantic solves Type Validation related problems and Data Validation related problems."
   ]
  }
 ],
 "metadata": {
  "kernelspec": {
   "display_name": "Python 3",
   "language": "python",
   "name": "python3"
  },
  "language_info": {
   "codemirror_mode": {
    "name": "ipython",
    "version": 3
   },
   "file_extension": ".py",
   "mimetype": "text/x-python",
   "name": "python",
   "nbconvert_exporter": "python",
   "pygments_lexer": "ipython3",
   "version": "3.11.9"
  }
 },
 "nbformat": 4,
 "nbformat_minor": 5
}
