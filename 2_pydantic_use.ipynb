{
 "cells": [
  {
   "cell_type": "code",
   "execution_count": 6,
   "id": "5436106e",
   "metadata": {},
   "outputs": [
    {
     "name": "stdout",
     "output_type": "stream",
     "text": [
      "Apurba\n",
      "25\n",
      "82.34\n",
      "Inserted into Database\n",
      "Apurba\n",
      "25\n",
      "82.34\n",
      "Updated into Database\n"
     ]
    }
   ],
   "source": [
    "from pydantic import BaseModel\n",
    "\n",
    "\n",
    "class Patient(BaseModel):\n",
    "    name: str\n",
    "    age: int\n",
    "    weight: float\n",
    "\n",
    "\n",
    "def insert_patient_data(patient: Patient):\n",
    "    print(patient.name)\n",
    "    print(patient.age)\n",
    "    print(patient.weight)\n",
    "    print('Inserted into Database')\n",
    "\n",
    "def update_patient_data(patient: Patient):\n",
    "    print(patient.name)\n",
    "    print(patient.age)\n",
    "    print(patient.weight)\n",
    "    print('Updated into Database')\n",
    "\n",
    "\n",
    "patient_info = {\n",
    "    'name': 'Apurba',\n",
    "    'age': 25,\n",
    "    'weight': 82.34\n",
    "}\n",
    "\n",
    "\n",
    "patient1 = Patient(**patient_info)\n",
    "\n",
    "\n",
    "insert_patient_data(patient1)\n",
    "update_patient_data(patient1)"
   ]
  },
  {
   "cell_type": "code",
   "execution_count": null,
   "id": "9b3b29f6",
   "metadata": {},
   "outputs": [],
   "source": []
  }
 ],
 "metadata": {
  "kernelspec": {
   "display_name": "Python 3",
   "language": "python",
   "name": "python3"
  },
  "language_info": {
   "codemirror_mode": {
    "name": "ipython",
    "version": 3
   },
   "file_extension": ".py",
   "mimetype": "text/x-python",
   "name": "python",
   "nbconvert_exporter": "python",
   "pygments_lexer": "ipython3",
   "version": "3.11.9"
  }
 },
 "nbformat": 4,
 "nbformat_minor": 5
}
