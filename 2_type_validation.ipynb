{
 "cells": [
  {
   "cell_type": "code",
   "execution_count": 11,
   "id": "5436106e",
   "metadata": {},
   "outputs": [
    {
     "name": "stdout",
     "output_type": "stream",
     "text": [
      "Name Apurba\n",
      "Age 25\n",
      "Weight 82.34\n",
      "Married False\n",
      "Allergies ['dust', 'smoke', 'pollen']\n",
      "Contact {'email': 'apurba@gmail.com', 'phone': '01234567890'}\n",
      "\n",
      "Inserted into Database\n",
      "\n",
      "Name Apurba\n",
      "Age 25\n",
      "Weight 82.34\n",
      "Married False\n",
      "Allergies ['dust', 'smoke', 'pollen']\n",
      "Contact {'email': 'apurba@gmail.com', 'phone': '01234567890'}\n",
      "\n",
      "Updated into Database\n",
      "\n"
     ]
    }
   ],
   "source": [
    "from pydantic import BaseModel\n",
    "from typing import List, Dict, Optional\n",
    "\n",
    "\n",
    "class Patient(BaseModel):\n",
    "    name: str\n",
    "    age: int\n",
    "    weight: float\n",
    "    married: Optional[bool] = None # To make the field Optional\n",
    "    allergies: Optional[List[str]] = None # For Two Level Validation\n",
    "    contact_details: Dict[str, str] # For Two Level Validation\n",
    "\n",
    "\n",
    "def insert_patient_data(patient: Patient):\n",
    "    print('Name', patient.name)\n",
    "    print('Age', patient.age)\n",
    "    print('Weight', patient.weight)\n",
    "    print('Married', patient.married)\n",
    "    print('Allergies', patient.allergies)\n",
    "    print('Contact', patient.contact_details)\n",
    "    print('\\nInserted into Database\\n')\n",
    "\n",
    "def update_patient_data(patient: Patient):\n",
    "    print('Name', patient.name)\n",
    "    print('Age', patient.age)\n",
    "    print('Weight', patient.weight)\n",
    "    print('Married', patient.married)\n",
    "    print('Allergies', patient.allergies)\n",
    "    print('Contact', patient.contact_details)\n",
    "    print('\\nUpdated into Database\\n')\n",
    "\n",
    "\n",
    "patient_info = {\n",
    "    'name': 'Apurba',\n",
    "    'age': 25,\n",
    "    'weight': 82.34,\n",
    "    'married': False,\n",
    "    'allergies': ['dust', 'smoke', 'pollen'],\n",
    "    'contact_details': {\n",
    "        'email': 'apurba@gmail.com',\n",
    "        'phone': '01234567890'\n",
    "    }\n",
    "}\n",
    "\n",
    "\n",
    "patient1 = Patient(**patient_info)\n",
    "\n",
    "\n",
    "insert_patient_data(patient1)\n",
    "update_patient_data(patient1)"
   ]
  },
  {
   "cell_type": "markdown",
   "id": "92ff2c9d",
   "metadata": {},
   "source": [
    "#### In Pydantic by default every field is required. But you can make it optional by using Optional Module and giving it a default value which is None"
   ]
  },
  {
   "cell_type": "code",
   "execution_count": null,
   "id": "9b3b29f6",
   "metadata": {},
   "outputs": [],
   "source": []
  }
 ],
 "metadata": {
  "kernelspec": {
   "display_name": "Python 3",
   "language": "python",
   "name": "python3"
  },
  "language_info": {
   "codemirror_mode": {
    "name": "ipython",
    "version": 3
   },
   "file_extension": ".py",
   "mimetype": "text/x-python",
   "name": "python",
   "nbconvert_exporter": "python",
   "pygments_lexer": "ipython3",
   "version": "3.11.9"
  }
 },
 "nbformat": 4,
 "nbformat_minor": 5
}
