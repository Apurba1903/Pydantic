{
 "cells": [
  {
   "cell_type": "code",
   "execution_count": 1,
   "id": "c43041d3",
   "metadata": {},
   "outputs": [
    {
     "name": "stdout",
     "output_type": "stream",
     "text": [
      "Name Apurba\n",
      "Age 25\n",
      "Weight 82.34\n",
      "Married False\n",
      "Allergies ['dust', 'smoke', 'pollen']\n",
      "Contact {'email': 'apurba@gmail.com', 'phone': '01234567890'}\n",
      "\n",
      "Inserted into Database\n",
      "\n",
      "Name Apurba\n",
      "Age 25\n",
      "Weight 82.34\n",
      "Married False\n",
      "Allergies ['dust', 'smoke', 'pollen']\n",
      "Contact {'email': 'apurba@gmail.com', 'phone': '01234567890'}\n",
      "\n",
      "Updated into Database\n",
      "\n"
     ]
    }
   ],
   "source": [
    "from pydantic import BaseModel\n",
    "from typing import List, Dict\n",
    "\n",
    "\n",
    "class Patient(BaseModel):\n",
    "    name: str\n",
    "    age: int\n",
    "    weight: float\n",
    "    married: bool\n",
    "    allergies: List[str]\n",
    "    contact_details: Dict[str, str]\n",
    "\n",
    "\n",
    "def insert_patient_data(patient: Patient):\n",
    "    print('Name', patient.name)\n",
    "    print('Age', patient.age)\n",
    "    print('Weight', patient.weight)\n",
    "    print('Married', patient.married)\n",
    "    print('Allergies', patient.allergies)\n",
    "    print('Contact', patient.contact_details)\n",
    "    print('\\nInserted into Database\\n')\n",
    "\n",
    "def update_patient_data(patient: Patient):\n",
    "    print('Name', patient.name)\n",
    "    print('Age', patient.age)\n",
    "    print('Weight', patient.weight)\n",
    "    print('Married', patient.married)\n",
    "    print('Allergies', patient.allergies)\n",
    "    print('Contact', patient.contact_details)\n",
    "    print('\\nUpdated into Database\\n')\n",
    "\n",
    "\n",
    "patient_info = {\n",
    "    'name': 'Apurba',\n",
    "    'age': 25,\n",
    "    'weight': 82.34,\n",
    "    'married': False,\n",
    "    'allergies': ['dust', 'smoke', 'pollen'],\n",
    "    'contact_details': {\n",
    "        'email': 'apurba@gmail.com',\n",
    "        'phone': '01234567890'\n",
    "    }\n",
    "}\n",
    "\n",
    "\n",
    "patient1 = Patient(**patient_info)\n",
    "\n",
    "\n",
    "insert_patient_data(patient1)\n",
    "update_patient_data(patient1)"
   ]
  },
  {
   "cell_type": "code",
   "execution_count": null,
   "id": "e4e3851e",
   "metadata": {},
   "outputs": [],
   "source": []
  }
 ],
 "metadata": {
  "kernelspec": {
   "display_name": "Python 3",
   "language": "python",
   "name": "python3"
  },
  "language_info": {
   "codemirror_mode": {
    "name": "ipython",
    "version": 3
   },
   "file_extension": ".py",
   "mimetype": "text/x-python",
   "name": "python",
   "nbconvert_exporter": "python",
   "pygments_lexer": "ipython3",
   "version": "3.11.9"
  }
 },
 "nbformat": 4,
 "nbformat_minor": 5
}
